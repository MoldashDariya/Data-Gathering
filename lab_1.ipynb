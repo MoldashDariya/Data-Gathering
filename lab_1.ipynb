{
 "cells": [
  {
   "cell_type": "code",
   "execution_count": 2,
   "id": "ae072b6e-1721-4e7c-9282-f5d8aeaadc83",
   "metadata": {},
   "outputs": [],
   "source": [
    "import numpy as np"
   ]
  },
  {
   "cell_type": "code",
   "execution_count": 4,
   "id": "283b5e78-df1a-4c2b-9a5d-ce9719fa7230",
   "metadata": {},
   "outputs": [],
   "source": [
    "A = np.array([[2, 3], [4, 5]])\n",
    "B = np.array([[6, 7], [8, 9]])"
   ]
  },
  {
   "cell_type": "code",
   "execution_count": 14,
   "id": "732708af-ec37-4fa5-95ba-15abcb0c6ae2",
   "metadata": {},
   "outputs": [
    {
     "data": {
      "text/plain": [
       "(array([[2, 3],\n",
       "        [4, 5]]),\n",
       " array([[6, 7],\n",
       "        [8, 9]]))"
      ]
     },
     "execution_count": 14,
     "metadata": {},
     "output_type": "execute_result"
    }
   ],
   "source": [
    "A,B"
   ]
  },
  {
   "cell_type": "code",
   "execution_count": 16,
   "id": "e7f1ee06-9f8e-4131-a16b-f8abd2020069",
   "metadata": {},
   "outputs": [
    {
     "data": {
      "text/plain": [
       "((2, 2), (2, 2))"
      ]
     },
     "execution_count": 16,
     "metadata": {},
     "output_type": "execute_result"
    }
   ],
   "source": [
    "A.shape, B.shape"
   ]
  },
  {
   "cell_type": "code",
   "execution_count": 17,
   "id": "6f43441a-f0f5-4df2-94a9-cb6deb46a587",
   "metadata": {},
   "outputs": [
    {
     "data": {
      "text/plain": [
       "np.float64(-2.0)"
      ]
     },
     "execution_count": 17,
     "metadata": {},
     "output_type": "execute_result"
    }
   ],
   "source": [
    "# Linear Algebra\n",
    "# 1 \n",
    "# det(A)=(2)(4)−(3)(5)=8-15=−7\n",
    "det = np.linalg.det(A)\n",
    "det"
   ]
  },
  {
   "cell_type": "code",
   "execution_count": 13,
   "id": "6f1c766f-8ade-4c00-9847-7511e64f548b",
   "metadata": {},
   "outputs": [
    {
     "data": {
      "text/plain": [
       "array([[-2.5,  1.5],\n",
       "       [ 2. , -1. ]])"
      ]
     },
     "execution_count": 13,
     "metadata": {},
     "output_type": "execute_result"
    }
   ],
   "source": [
    "# Calculating the inverse of a matrix\n",
    "#2\n",
    "# inverse(A) = 1/det(A) * [[d, -b], [-c, a]]\n",
    "# inverse(A) = 1/(-2) * [[5, -3], [-4, 2]] = [[-2.5, 1.5], [2, -1]]\n",
    "inverse_matrix = np.linalg.inv(A)\n",
    "inverse_matrix"
   ]
  },
  {
   "cell_type": "code",
   "execution_count": 19,
   "id": "144e287d-0dd3-4459-a456-bc4801b27c2b",
   "metadata": {},
   "outputs": [
    {
     "data": {
      "text/plain": [
       "array([[36, 41],\n",
       "       [64, 73]])"
      ]
     },
     "execution_count": 19,
     "metadata": {},
     "output_type": "execute_result"
    }
   ],
   "source": [
    "# 3\n",
    "# dot product\n",
    "dotp = np.dot(A, B)\n",
    "dotp"
   ]
  },
  {
   "cell_type": "code",
   "execution_count": 22,
   "id": "2f855fe6-f6ec-4e68-bf50-73bbc3a01f82",
   "metadata": {},
   "outputs": [
    {
     "data": {
      "text/plain": [
       "(array([-0.27491722,  7.27491722]),\n",
       " array([[-0.79681209, -0.49436913],\n",
       "        [ 0.60422718, -0.86925207]]))"
      ]
     },
     "execution_count": 22,
     "metadata": {},
     "output_type": "execute_result"
    }
   ],
   "source": [
    "#4\n",
    "# Eigenvalues and Eigenvectors\n",
    "eigenvalues, eigenvectors = np.linalg.eig(A)\n",
    "eigenvalues, eigenvectors"
   ]
  },
  {
   "cell_type": "code",
   "execution_count": 24,
   "id": "05f9f787-6677-41ea-abd5-998a0eb03a0b",
   "metadata": {},
   "outputs": [
    {
     "data": {
      "text/plain": [
       "(array([[-0.48992502, -0.87176457],\n",
       "        [-0.87176457,  0.48992502]]),\n",
       " array([7.34342046, 0.27235265]),\n",
       " array([[-0.60828716, -0.79371704],\n",
       "        [ 0.79371704, -0.60828716]]))"
      ]
     },
     "execution_count": 24,
     "metadata": {},
     "output_type": "execute_result"
    }
   ],
   "source": [
    "#5\n",
    "#Singular Value Decomposition (SVD)\n",
    "U, S, V = np.linalg.svd(A)\n",
    "U,S,V"
   ]
  },
  {
   "cell_type": "code",
   "execution_count": 26,
   "id": "aae48328-2448-483d-bec4-eb8b33b08cea",
   "metadata": {},
   "outputs": [
    {
     "name": "stdout",
     "output_type": "stream",
     "text": [
      "x значения: [1 2 3 4 5]\n",
      "f(x) значения: [ 5  7  9 11 13]\n",
      "Численная производная dy/dx: [2. 2. 2. 2. 2.]\n"
     ]
    }
   ],
   "source": [
    "#Calculus\n",
    "#6\n",
    "x = np.array([1, 2, 3, 4, 5])\n",
    "y = 2 * x + 3\n",
    "dy_dx = np.gradient(y, x)\n",
    "print(\"x значения:\", x)\n",
    "print(\"f(x) значения:\", y)\n",
    "print(\"Численная производная dy/dx:\", dy_dx)"
   ]
  },
  {
   "cell_type": "code",
   "execution_count": 30,
   "id": "1ffbfa90-60aa-4f66-8cf1-c3af61e5c960",
   "metadata": {},
   "outputs": [
    {
     "name": "stdout",
     "output_type": "stream",
     "text": [
      "Площадь под кривой: 36.0\n"
     ]
    }
   ],
   "source": [
    "#7\n",
    "#Definite Integral using the trapezoidal rule\n",
    "area = np.trapezoid(y, x)\n",
    "\n",
    "print(\"Площадь под кривой:\", area)"
   ]
  },
  {
   "cell_type": "code",
   "execution_count": 32,
   "id": "7d4e2e60-885a-46ee-aac1-042c412c0318",
   "metadata": {},
   "outputs": [
    {
     "data": {
      "text/plain": [
       "(array([ 0.84147098,  0.90929743,  0.14112001, -0.7568025 , -0.95892427]),\n",
       " array([ 0.54030231, -0.41614684, -0.9899925 , -0.65364362,  0.28366219]),\n",
       " array([ 1.55740772, -2.18503986, -0.14254654,  1.15782128, -3.38051501]))"
      ]
     },
     "execution_count": 32,
     "metadata": {},
     "output_type": "execute_result"
    }
   ],
   "source": [
    "# 8\n",
    "# sin, cos, tg, ctg\n",
    "c = np.sin(x)\n",
    "sin_c = np.sin(x)\n",
    "cos_c = np.cos(x)\n",
    "tan_c = np.tan(x)\n",
    "sin_c, cos_c, tan_c"
   ]
  },
  {
   "cell_type": "code",
   "execution_count": 34,
   "id": "b12c62e3-cddd-428b-b163-28210e541450",
   "metadata": {},
   "outputs": [
    {
     "data": {
      "text/plain": [
       "array([0.        , 0.69314718, 1.09861229, 1.38629436, 1.60943791])"
      ]
     },
     "execution_count": 34,
     "metadata": {},
     "output_type": "execute_result"
    }
   ],
   "source": [
    "# 9\n",
    "# Natural logarithm\n",
    "natural_log = np.log(x)\n",
    "natural_log"
   ]
  },
  {
   "cell_type": "code",
   "execution_count": 41,
   "id": "d5262b31-1210-40fa-80c7-492077889f4d",
   "metadata": {},
   "outputs": [
    {
     "name": "stdout",
     "output_type": "stream",
     "text": [
      "Результат интегрирования: 52.0\n"
     ]
    }
   ],
   "source": [
    "#10\n",
    "# integral(Simpson's rule)\n",
    "from scipy.integrate import simpson\n",
    "x_values = np.array([3, 4, 5, 6, 7]) \n",
    "def linear_function(x):\n",
    "    return 2 * x + 3\n",
    "y_values = linear_function(x_values)\n",
    "integral_result = simpson(y_values, x=x_values)\n",
    "print(\"Результат интегрирования:\", integral_result)"
   ]
  },
  {
   "cell_type": "code",
   "execution_count": 43,
   "id": "12827166-209b-42ff-9531-0ea43dfbd492",
   "metadata": {},
   "outputs": [
    {
     "data": {
      "text/plain": [
       "np.float64(3.0)"
      ]
     },
     "execution_count": 43,
     "metadata": {},
     "output_type": "execute_result"
    }
   ],
   "source": [
    "## Statistics\n",
    "# 11\n",
    "# the middle value in a sorted array\n",
    "median = np.median(x)\n",
    "median"
   ]
  },
  {
   "cell_type": "code",
   "execution_count": 48,
   "id": "24537d21-9988-41f5-a593-666e63e2447c",
   "metadata": {},
   "outputs": [
    {
     "data": {
      "text/plain": [
       "51"
      ]
     },
     "execution_count": 48,
     "metadata": {},
     "output_type": "execute_result"
    }
   ],
   "source": [
    "#12\n",
    "## average value of all the elements in the array\n",
    "dat = np.array([23, 45, 87, 12, 90])\n",
    "average_value = np.average(dat)\n",
    "average_value = int(average_value)\n",
    "average_value\n"
   ]
  },
  {
   "cell_type": "code",
   "execution_count": 50,
   "id": "31fd6b82-4f02-4bb1-a6cc-66cd64febf5c",
   "metadata": {},
   "outputs": [
    {
     "data": {
      "text/plain": [
       "np.float64(1031.44)"
      ]
     },
     "execution_count": 50,
     "metadata": {},
     "output_type": "execute_result"
    }
   ],
   "source": [
    "#13\n",
    "#Dispersion\n",
    "variance = np.var(dat)\n",
    "variance\n"
   ]
  },
  {
   "cell_type": "code",
   "execution_count": 53,
   "id": "4a5e0171-9812-4309-83ad-75feb336cb53",
   "metadata": {},
   "outputs": [
    {
     "data": {
      "text/plain": [
       "np.float64(32.11603960640228)"
      ]
     },
     "execution_count": 53,
     "metadata": {},
     "output_type": "execute_result"
    }
   ],
   "source": [
    "#14\n",
    "# Standard Deviation\n",
    "std_deviation = np.std(dat)\n",
    "std_deviation"
   ]
  },
  {
   "cell_type": "code",
   "execution_count": 55,
   "id": "e1cfa858-8b87-49dd-a15f-de5c481dd0d3",
   "metadata": {},
   "outputs": [
    {
     "name": "stdout",
     "output_type": "stream",
     "text": [
      "Коэффициент корреляции между data1 и data2: 1.0\n"
     ]
    }
   ],
   "source": [
    "#15\n",
    "#Correlation\n",
    "data1 = np.array([1, 2, 3])\n",
    "data2 = np.array([4, 5, 6])\n",
    "correlation = np.corrcoef(data1, data2)[0, 1]\n",
    "print(\"Коэффициент корреляции между data1 и data2:\", correlation)\n"
   ]
  }
 ],
 "metadata": {
  "kernelspec": {
   "display_name": "Python 3 (ipykernel)",
   "language": "python",
   "name": "python3"
  },
  "language_info": {
   "codemirror_mode": {
    "name": "ipython",
    "version": 3
   },
   "file_extension": ".py",
   "mimetype": "text/x-python",
   "name": "python",
   "nbconvert_exporter": "python",
   "pygments_lexer": "ipython3",
   "version": "3.9.6"
  }
 },
 "nbformat": 4,
 "nbformat_minor": 5
}
