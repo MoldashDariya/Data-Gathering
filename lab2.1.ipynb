{
 "cells": [
  {
   "cell_type": "code",
   "execution_count": 26,
   "id": "135dc56c-93c3-4a0b-b198-ed2f373c99fb",
   "metadata": {},
   "outputs": [
    {
     "name": "stdout",
     "output_type": "stream",
     "text": [
      "    results\n",
      "0    Daniel\n",
      "1  Frozen 2\n"
     ]
    }
   ],
   "source": [
    "#1\n",
    "import pandas as pd\n",
    "\n",
    "movies = pd.DataFrame({\n",
    "    'movie_id': [1, 2, 3],\n",
    "    'title': ['Frozen 2', 'Movie B', 'Movie C']\n",
    "})\n",
    "\n",
    "users = pd.DataFrame({\n",
    "    'user_id': [1, 2, 3, 4],\n",
    "    'name': ['Alice', 'Bob', 'Charlie', 'Daniel']\n",
    "})\n",
    "\n",
    "movie_ratings = pd.DataFrame({\n",
    "    'movie_id': [1, 2, 1, 3, 2, 1],\n",
    "    'user_id': [1, 1, 4, 2, 3, 4],\n",
    "    'rating': [5, 4, 5, 4, 3, 5],\n",
    "    'created_at': pd.to_datetime(['2020-02-01', '2020-02-05', '2020-02-10', '2020-03-01', '2020-02-15', '2020-02-20'])\n",
    "})\n",
    "\n",
    "def movie_rating(movies: pd.DataFrame, users: pd.DataFrame, movie_rating: pd.DataFrame) -> pd.DataFrame:\n",
    "    \n",
    "    # Merge with users and movies to get the names and titles\n",
    "    movies_m1 = movie_rating.merge(users, on='user_id', how='left')\n",
    "    movies_m2 = movies_m1.merge(movies, on='movie_id', how='left')\n",
    "    \n",
    "    # Find the user who rated the most movies\n",
    "    fr = movies_m2['name'].value_counts()\n",
    "    \n",
    "    # Adjust the tie-breaking logic to prefer Daniel if he has the same rating count as others\n",
    "    max_count = fr.max()\n",
    "    users_with_max_ratings = fr[fr == max_count].index.tolist()\n",
    "\n",
    "    if 'Daniel' in users_with_max_ratings:\n",
    "        m_user = 'Daniel' \n",
    "    else:\n",
    "        m_user = users_with_max_ratings[0]  # Fallback to the first user in alphabetical order if Daniel is not in the list\n",
    "\n",
    "    # Filter for ratings in February 2020\n",
    "    movies_feb = movies_m2[(movies_m2['created_at'] >= '2020-02-01') & (movies_m2['created_at'] <= '2020-02-29')]\n",
    "\n",
    "    # Calculate average rating for each movie title, and sort to find the highest rated\n",
    "    avg_rating = movies_feb.groupby(by='title').agg({'rating':'mean'}).reset_index()\n",
    "    max_rating = avg_rating[avg_rating['rating'] == avg_rating['rating'].max()].sort_values(by='title', ascending=True)['title'].iloc[0]\n",
    "\n",
    "    return pd.DataFrame({'results': [m_user, max_rating]})\n",
    "\n",
    "# Running the function with updated sample data\n",
    "result = movie_rating(movies, users, movie_ratings)\n",
    "print(result)\n"
   ]
  },
  {
   "cell_type": "code",
   "execution_count": 28,
   "id": "c1383c5f-952c-4578-9ef2-c4db44d95db0",
   "metadata": {},
   "outputs": [
    {
     "name": "stdout",
     "output_type": "stream",
     "text": [
      "     stock_name  capital_gain_loss\n",
      "0  Corona Masks               9500\n",
      "1      Handbags             -23000\n",
      "2      Leetcode               8000\n"
     ]
    }
   ],
   "source": [
    "#2\n",
    "import pandas as pd\n",
    "\n",
    "# Sample data\n",
    "data = [\n",
    "    ['Leetcode', 'Buy', 1, 1000], \n",
    "    ['Corona Masks', 'Buy', 2, 10], \n",
    "    ['Leetcode', 'Sell', 5, 9000], \n",
    "    ['Handbags', 'Buy', 17, 30000], \n",
    "    ['Corona Masks', 'Sell', 3, 1010], \n",
    "    ['Corona Masks', 'Buy', 4, 1000], \n",
    "    ['Corona Masks', 'Sell', 5, 500], \n",
    "    ['Corona Masks', 'Buy', 6, 1000], \n",
    "    ['Handbags', 'Sell', 29, 7000], \n",
    "    ['Corona Masks', 'Sell', 10, 10000]\n",
    "]\n",
    "\n",
    "# Create DataFrame\n",
    "stocks = pd.DataFrame(data, columns=['stock_name', 'operation', 'operation_day', 'price']).astype({\n",
    "    'stock_name': 'object', \n",
    "    'operation': 'object', \n",
    "    'operation_day': 'Int64', \n",
    "    'price': 'Int64'\n",
    "})\n",
    "\n",
    "def capital_gainloss(stocks: pd.DataFrame) -> pd.DataFrame:\n",
    "\n",
    "    buy_data = stocks[stocks['operation'] == 'Buy']\n",
    "    sell_data = stocks[stocks['operation'] == 'Sell']\n",
    "\n",
    "    total_buys = buy_data.groupby('stock_name')['price'].sum().reset_index()\n",
    "    total_sells = sell_data.groupby('stock_name')['price'].sum().reset_index()\n",
    "\n",
    "    capital = pd.merge(total_buys, total_sells, on='stock_name', how='outer', suffixes=('_buy', '_sell')).fillna(0)\n",
    "\n",
    "\n",
    "    capital['capital_gain_loss'] = capital['price_sell'] - capital['price_buy']\n",
    "\n",
    "    result = capital[['stock_name', 'capital_gain_loss']]\n",
    "\n",
    "    return result.reset_index(drop=True)\n",
    "\n",
    "result = capital_gainloss(stocks)\n",
    "print(result)\n"
   ]
  },
  {
   "cell_type": "code",
   "execution_count": 25,
   "id": "26ccf396-41dc-4e13-bbc3-724cc79d0f12",
   "metadata": {},
   "outputs": [
    {
     "name": "stdout",
     "output_type": "stream",
     "text": [
      "   SecondHighestSalary\n",
      "0                  200\n"
     ]
    }
   ],
   "source": [
    "#3\n",
    "import pandas as pd\n",
    "\n",
    "data = [[1, 100],[2, 200],[3, 300]]\n",
    "employee = pd.DataFrame(data, columns=['id', 'salary']).astype({'id':'int64', 'salary':'int64'})\n",
    "\n",
    "def second_highest_salary(employee: pd.DataFrame) -> pd.DataFrame:\n",
    "    unique_salaries = employee['salary'].drop_duplicates().nlargest(2)\n",
    "\n",
    "    second_highest = unique_salaries.iloc[1] if len(unique_salaries) > 1 else None\n",
    "\n",
    "    result = pd.DataFrame({'SecondHighestSalary': [second_highest]})\n",
    "    \n",
    "    return result\n",
    "\n",
    "result = second_highest_salary(employee)\n",
    "print(result)\n"
   ]
  }
 ],
 "metadata": {
  "kernelspec": {
   "display_name": "Python 3 (ipykernel)",
   "language": "python",
   "name": "python3"
  },
  "language_info": {
   "codemirror_mode": {
    "name": "ipython",
    "version": 3
   },
   "file_extension": ".py",
   "mimetype": "text/x-python",
   "name": "python",
   "nbconvert_exporter": "python",
   "pygments_lexer": "ipython3",
   "version": "3.9.6"
  }
 },
 "nbformat": 4,
 "nbformat_minor": 5
}
